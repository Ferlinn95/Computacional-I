{
  "nbformat": 4,
  "nbformat_minor": 0,
  "metadata": {
    "colab": {
      "name": "Actividad 3_1",
      "provenance": []
    },
    "kernelspec": {
      "name": "python3",
      "display_name": "Python 3"
    }
  },
  "cells": [
    {
      "cell_type": "code",
      "metadata": {
        "id": "LI9PcyUOkx08"
      },
      "source": [
        "#Importamos las librerias\r\n",
        "import numpy as np\r\n",
        "import pandas as pd\r\n",
        "import requests"
      ],
      "execution_count": 8,
      "outputs": []
    },
    {
      "cell_type": "code",
      "metadata": {
        "colab": {
          "base_uri": "https://localhost:8080/"
        },
        "id": "eeIdopWRliBW",
        "outputId": "8a7a2149-05ed-47a6-b4de-dfdc59634ec8"
      },
      "source": [
        "#Leemos el archivo de climatoligia diaria, utilizando un archivo de internet con pd.read_csv\r\n",
        "url = \"https://raw.githubusercontent.com/Ferlinn95/Computacional-I/master/Actividad%201/Climatologia%20Diaria.txt\"\r\n",
        "#requests.get(url)"
      ],
      "execution_count": 11,
      "outputs": [
        {
          "output_type": "execute_result",
          "data": {
            "text/plain": [
              "<Response [200]>"
            ]
          },
          "metadata": {
            "tags": []
          },
          "execution_count": 11
        }
      ]
    },
    {
      "cell_type": "code",
      "metadata": {
        "id": "0wIR-UarmLCD"
      },
      "source": [
        "#Asignamos nombres a nuestras columnas. \r\n",
        "my_cols = ['Fecha', 'Precip', 'Evap', 'Tmax', 'Tmin']\r\n",
        "df_dist = pd.read_csv(url, names=my_cols, encoding='cp1251', sep='\\s+', header=None, skiprows=19, skipfooter=1, engine='python')"
      ],
      "execution_count": 13,
      "outputs": []
    },
    {
      "cell_type": "code",
      "metadata": {
        "colab": {
          "base_uri": "https://localhost:8080/"
        },
        "id": "XpkY6pF1mW_g",
        "outputId": "8f5165cf-0973-48c2-e285-f62d8dd3acb2"
      },
      "source": [
        "#Esto permite imprimir los n renglones que quieras del encabezado y el final\r\n",
        "print(df_dist.head(15))\r\n",
        "print(df_dist.tail(15))"
      ],
      "execution_count": 14,
      "outputs": [
        {
          "output_type": "stream",
          "text": [
            "         Fecha Precip  Evap Tmax Tmin\n",
            "0   01/08/1977      0  11.5   40   27\n",
            "1   02/08/1977      0  10.9   39   27\n",
            "2   03/08/1977      0  11.5   42   25\n",
            "3   04/08/1977      0  11.5   43   24\n",
            "4   05/08/1977      0  10.8   43   24\n",
            "5   06/08/1977      0  12.9   40   30\n",
            "6   07/08/1977      0   9.5   40   27\n",
            "7   08/08/1977      0  10.9   39   24\n",
            "8   09/08/1977      8  10.6   39   23\n",
            "9   10/08/1977      0     9   38   21\n",
            "10  11/08/1977      0   7.2   40   24\n",
            "11  12/08/1977      0     9   40   27\n",
            "12  13/08/1977      0     8   39   24\n",
            "13  14/08/1977      4   8.9   39   25\n",
            "14  15/08/1977    1.5   5.3   33   23\n",
            "           Fecha Precip  Evap  Tmax Tmin\n",
            "4026  17/12/2004      0  Nulo    23  3.5\n",
            "4027  18/12/2004      0  Nulo    26    9\n",
            "4028  19/12/2004      0  Nulo    27   10\n",
            "4029  20/12/2004      0  Nulo    25   10\n",
            "4030  21/12/2004    0.5  Nulo    28    6\n",
            "4031  22/12/2004      1  Nulo    21  4.5\n",
            "4032  23/12/2004    1.5  Nulo    13    6\n",
            "4033  24/12/2004      0  Nulo    12  1.5\n",
            "4034  25/12/2004      0  Nulo  14.5    3\n",
            "4035  26/12/2004      0  Nulo    21  1.5\n",
            "4036  27/12/2004      0  Nulo    22    6\n",
            "4037  28/12/2004      0  Nulo    21    8\n",
            "4038  29/12/2004      0  Nulo    23   11\n",
            "4039  30/12/2004      0  Nulo    21  9.5\n",
            "4040  31/12/2004      0  Nulo  Nulo    6\n"
          ],
          "name": "stdout"
        }
      ]
    },
    {
      "cell_type": "code",
      "metadata": {
        "colab": {
          "base_uri": "https://localhost:8080/"
        },
        "id": "zqUngj2pqHgI",
        "outputId": "66376f87-e415-4303-98c9-4cd87d044b90"
      },
      "source": [
        "#Te permite saber la cantidad de datos por renglones y el total de columonas \r\n",
        "df_dist.shape"
      ],
      "execution_count": 15,
      "outputs": [
        {
          "output_type": "execute_result",
          "data": {
            "text/plain": [
              "(4041, 5)"
            ]
          },
          "metadata": {
            "tags": []
          },
          "execution_count": 15
        }
      ]
    },
    {
      "cell_type": "code",
      "metadata": {
        "colab": {
          "base_uri": "https://localhost:8080/"
        },
        "id": "ctsyY4qbulsm",
        "outputId": "e05082e1-9512-403f-b286-26a65af7f122"
      },
      "source": [
        "#Esto brinda informacion del archivo que estamos investigado \r\n",
        "df_dist.info()"
      ],
      "execution_count": 16,
      "outputs": [
        {
          "output_type": "stream",
          "text": [
            "<class 'pandas.core.frame.DataFrame'>\n",
            "RangeIndex: 4041 entries, 0 to 4040\n",
            "Data columns (total 5 columns):\n",
            " #   Column  Non-Null Count  Dtype \n",
            "---  ------  --------------  ----- \n",
            " 0   Fecha   4041 non-null   object\n",
            " 1   Precip  4041 non-null   object\n",
            " 2   Evap    4041 non-null   object\n",
            " 3   Tmax    4041 non-null   object\n",
            " 4   Tmin    4041 non-null   object\n",
            "dtypes: object(5)\n",
            "memory usage: 158.0+ KB\n"
          ],
          "name": "stdout"
        }
      ]
    },
    {
      "cell_type": "code",
      "metadata": {
        "colab": {
          "base_uri": "https://localhost:8080/",
          "height": 194
        },
        "id": "tuBqdW9YurMB",
        "outputId": "91e67033-3bee-4f19-c3bf-cce185d6e591"
      },
      "source": [
        "#Hacemos una copia de trabajo y preservamos el dataframe original\r\n",
        "df_work0 = df_dist.copy()\r\n",
        "df_work0.head()"
      ],
      "execution_count": 17,
      "outputs": [
        {
          "output_type": "execute_result",
          "data": {
            "text/html": [
              "<div>\n",
              "<style scoped>\n",
              "    .dataframe tbody tr th:only-of-type {\n",
              "        vertical-align: middle;\n",
              "    }\n",
              "\n",
              "    .dataframe tbody tr th {\n",
              "        vertical-align: top;\n",
              "    }\n",
              "\n",
              "    .dataframe thead th {\n",
              "        text-align: right;\n",
              "    }\n",
              "</style>\n",
              "<table border=\"1\" class=\"dataframe\">\n",
              "  <thead>\n",
              "    <tr style=\"text-align: right;\">\n",
              "      <th></th>\n",
              "      <th>Fecha</th>\n",
              "      <th>Precip</th>\n",
              "      <th>Evap</th>\n",
              "      <th>Tmax</th>\n",
              "      <th>Tmin</th>\n",
              "    </tr>\n",
              "  </thead>\n",
              "  <tbody>\n",
              "    <tr>\n",
              "      <th>0</th>\n",
              "      <td>01/08/1977</td>\n",
              "      <td>0</td>\n",
              "      <td>11.5</td>\n",
              "      <td>40</td>\n",
              "      <td>27</td>\n",
              "    </tr>\n",
              "    <tr>\n",
              "      <th>1</th>\n",
              "      <td>02/08/1977</td>\n",
              "      <td>0</td>\n",
              "      <td>10.9</td>\n",
              "      <td>39</td>\n",
              "      <td>27</td>\n",
              "    </tr>\n",
              "    <tr>\n",
              "      <th>2</th>\n",
              "      <td>03/08/1977</td>\n",
              "      <td>0</td>\n",
              "      <td>11.5</td>\n",
              "      <td>42</td>\n",
              "      <td>25</td>\n",
              "    </tr>\n",
              "    <tr>\n",
              "      <th>3</th>\n",
              "      <td>04/08/1977</td>\n",
              "      <td>0</td>\n",
              "      <td>11.5</td>\n",
              "      <td>43</td>\n",
              "      <td>24</td>\n",
              "    </tr>\n",
              "    <tr>\n",
              "      <th>4</th>\n",
              "      <td>05/08/1977</td>\n",
              "      <td>0</td>\n",
              "      <td>10.8</td>\n",
              "      <td>43</td>\n",
              "      <td>24</td>\n",
              "    </tr>\n",
              "  </tbody>\n",
              "</table>\n",
              "</div>"
            ],
            "text/plain": [
              "        Fecha Precip  Evap Tmax Tmin\n",
              "0  01/08/1977      0  11.5   40   27\n",
              "1  02/08/1977      0  10.9   39   27\n",
              "2  03/08/1977      0  11.5   42   25\n",
              "3  04/08/1977      0  11.5   43   24\n",
              "4  05/08/1977      0  10.8   43   24"
            ]
          },
          "metadata": {
            "tags": []
          },
          "execution_count": 17
        }
      ]
    },
    {
      "cell_type": "code",
      "metadata": {
        "colab": {
          "base_uri": "https://localhost:8080/",
          "height": 194
        },
        "id": "N0UsDB_JzCOG",
        "outputId": "223e9d7b-0632-4e81-b0fc-5c68d4bd8f1e"
      },
      "source": [
        "#Sustituimos los valores \"Nulos\" por espacios en blanco\r\n",
        "str_Nulo = 'Nulo'\r\n",
        "df_work1 = df_work0.replace(to_replace=str_Nulo, value='', regex=True)\r\n",
        "df_work1.head()"
      ],
      "execution_count": 24,
      "outputs": [
        {
          "output_type": "execute_result",
          "data": {
            "text/html": [
              "<div>\n",
              "<style scoped>\n",
              "    .dataframe tbody tr th:only-of-type {\n",
              "        vertical-align: middle;\n",
              "    }\n",
              "\n",
              "    .dataframe tbody tr th {\n",
              "        vertical-align: top;\n",
              "    }\n",
              "\n",
              "    .dataframe thead th {\n",
              "        text-align: right;\n",
              "    }\n",
              "</style>\n",
              "<table border=\"1\" class=\"dataframe\">\n",
              "  <thead>\n",
              "    <tr style=\"text-align: right;\">\n",
              "      <th></th>\n",
              "      <th>Fecha</th>\n",
              "      <th>Precip</th>\n",
              "      <th>Evap</th>\n",
              "      <th>Tmax</th>\n",
              "      <th>Tmin</th>\n",
              "    </tr>\n",
              "  </thead>\n",
              "  <tbody>\n",
              "    <tr>\n",
              "      <th>0</th>\n",
              "      <td>01/08/1977</td>\n",
              "      <td>0</td>\n",
              "      <td>11.5</td>\n",
              "      <td>40</td>\n",
              "      <td>27</td>\n",
              "    </tr>\n",
              "    <tr>\n",
              "      <th>1</th>\n",
              "      <td>02/08/1977</td>\n",
              "      <td>0</td>\n",
              "      <td>10.9</td>\n",
              "      <td>39</td>\n",
              "      <td>27</td>\n",
              "    </tr>\n",
              "    <tr>\n",
              "      <th>2</th>\n",
              "      <td>03/08/1977</td>\n",
              "      <td>0</td>\n",
              "      <td>11.5</td>\n",
              "      <td>42</td>\n",
              "      <td>25</td>\n",
              "    </tr>\n",
              "    <tr>\n",
              "      <th>3</th>\n",
              "      <td>04/08/1977</td>\n",
              "      <td>0</td>\n",
              "      <td>11.5</td>\n",
              "      <td>43</td>\n",
              "      <td>24</td>\n",
              "    </tr>\n",
              "    <tr>\n",
              "      <th>4</th>\n",
              "      <td>05/08/1977</td>\n",
              "      <td>0</td>\n",
              "      <td>10.8</td>\n",
              "      <td>43</td>\n",
              "      <td>24</td>\n",
              "    </tr>\n",
              "  </tbody>\n",
              "</table>\n",
              "</div>"
            ],
            "text/plain": [
              "        Fecha Precip  Evap Tmax Tmin\n",
              "0  01/08/1977      0  11.5   40   27\n",
              "1  02/08/1977      0  10.9   39   27\n",
              "2  03/08/1977      0  11.5   42   25\n",
              "3  04/08/1977      0  11.5   43   24\n",
              "4  05/08/1977      0  10.8   43   24"
            ]
          },
          "metadata": {
            "tags": []
          },
          "execution_count": 24
        }
      ]
    },
    {
      "cell_type": "code",
      "metadata": {
        "colab": {
          "base_uri": "https://localhost:8080/",
          "height": 194
        },
        "id": "z5FD4ga2V9ep",
        "outputId": "bbb9f1ac-f258-40f4-8d97-8de39e494a98"
      },
      "source": [
        "# Como no tenia valones nulos decidi utilizar los valores de los ultimos valores\r\n",
        "df_work1.tail()"
      ],
      "execution_count": 25,
      "outputs": [
        {
          "output_type": "execute_result",
          "data": {
            "text/html": [
              "<div>\n",
              "<style scoped>\n",
              "    .dataframe tbody tr th:only-of-type {\n",
              "        vertical-align: middle;\n",
              "    }\n",
              "\n",
              "    .dataframe tbody tr th {\n",
              "        vertical-align: top;\n",
              "    }\n",
              "\n",
              "    .dataframe thead th {\n",
              "        text-align: right;\n",
              "    }\n",
              "</style>\n",
              "<table border=\"1\" class=\"dataframe\">\n",
              "  <thead>\n",
              "    <tr style=\"text-align: right;\">\n",
              "      <th></th>\n",
              "      <th>Fecha</th>\n",
              "      <th>Precip</th>\n",
              "      <th>Evap</th>\n",
              "      <th>Tmax</th>\n",
              "      <th>Tmin</th>\n",
              "    </tr>\n",
              "  </thead>\n",
              "  <tbody>\n",
              "    <tr>\n",
              "      <th>4036</th>\n",
              "      <td>27/12/2004</td>\n",
              "      <td>0</td>\n",
              "      <td></td>\n",
              "      <td>22</td>\n",
              "      <td>6</td>\n",
              "    </tr>\n",
              "    <tr>\n",
              "      <th>4037</th>\n",
              "      <td>28/12/2004</td>\n",
              "      <td>0</td>\n",
              "      <td></td>\n",
              "      <td>21</td>\n",
              "      <td>8</td>\n",
              "    </tr>\n",
              "    <tr>\n",
              "      <th>4038</th>\n",
              "      <td>29/12/2004</td>\n",
              "      <td>0</td>\n",
              "      <td></td>\n",
              "      <td>23</td>\n",
              "      <td>11</td>\n",
              "    </tr>\n",
              "    <tr>\n",
              "      <th>4039</th>\n",
              "      <td>30/12/2004</td>\n",
              "      <td>0</td>\n",
              "      <td></td>\n",
              "      <td>21</td>\n",
              "      <td>9.5</td>\n",
              "    </tr>\n",
              "    <tr>\n",
              "      <th>4040</th>\n",
              "      <td>31/12/2004</td>\n",
              "      <td>0</td>\n",
              "      <td></td>\n",
              "      <td></td>\n",
              "      <td>6</td>\n",
              "    </tr>\n",
              "  </tbody>\n",
              "</table>\n",
              "</div>"
            ],
            "text/plain": [
              "           Fecha Precip Evap Tmax Tmin\n",
              "4036  27/12/2004      0        22    6\n",
              "4037  28/12/2004      0        21    8\n",
              "4038  29/12/2004      0        23   11\n",
              "4039  30/12/2004      0        21  9.5\n",
              "4040  31/12/2004      0              6"
            ]
          },
          "metadata": {
            "tags": []
          },
          "execution_count": 25
        }
      ]
    },
    {
      "cell_type": "code",
      "metadata": {
        "colab": {
          "base_uri": "https://localhost:8080/"
        },
        "id": "imw34lxucUi7",
        "outputId": "c5e8228f-6481-4173-d1d7-dca2412f8f2d"
      },
      "source": [
        "# Imprimimos la información actualizada del dataframe\r\n",
        "df_work1.info()\r\n",
        "print(df_work1.head())"
      ],
      "execution_count": 29,
      "outputs": [
        {
          "output_type": "stream",
          "text": [
            "<class 'pandas.core.frame.DataFrame'>\n",
            "RangeIndex: 4041 entries, 0 to 4040\n",
            "Data columns (total 5 columns):\n",
            " #   Column  Non-Null Count  Dtype \n",
            "---  ------  --------------  ----- \n",
            " 0   Fecha   4041 non-null   object\n",
            " 1   Precip  4041 non-null   object\n",
            " 2   Evap    4041 non-null   object\n",
            " 3   Tmax    4041 non-null   object\n",
            " 4   Tmin    4041 non-null   object\n",
            "dtypes: object(5)\n",
            "memory usage: 158.0+ KB\n",
            "        Fecha Precip  Evap Tmax Tmin\n",
            "0  01/08/1977      0  11.5   40   27\n",
            "1  02/08/1977      0  10.9   39   27\n",
            "2  03/08/1977      0  11.5   42   25\n",
            "3  04/08/1977      0  11.5   43   24\n",
            "4  05/08/1977      0  10.8   43   24\n"
          ],
          "name": "stdout"
        }
      ]
    },
    {
      "cell_type": "code",
      "metadata": {
        "colab": {
          "base_uri": "https://localhost:8080/"
        },
        "id": "xzrLYmKFdMw_",
        "outputId": "270bbab4-dec4-4df4-d7a6-d59edf5e9c97"
      },
      "source": [
        "# Imprimimos la información actualizada del dataframe, pero ahora para los ultimos datos\r\n",
        "df_work1.info()\r\n",
        "print(df_work1.tail())"
      ],
      "execution_count": 28,
      "outputs": [
        {
          "output_type": "stream",
          "text": [
            "<class 'pandas.core.frame.DataFrame'>\n",
            "RangeIndex: 4041 entries, 0 to 4040\n",
            "Data columns (total 5 columns):\n",
            " #   Column  Non-Null Count  Dtype \n",
            "---  ------  --------------  ----- \n",
            " 0   Fecha   4041 non-null   object\n",
            " 1   Precip  4041 non-null   object\n",
            " 2   Evap    4041 non-null   object\n",
            " 3   Tmax    4041 non-null   object\n",
            " 4   Tmin    4041 non-null   object\n",
            "dtypes: object(5)\n",
            "memory usage: 158.0+ KB\n",
            "           Fecha Precip Evap Tmax Tmin\n",
            "4036  27/12/2004      0        22    6\n",
            "4037  28/12/2004      0        21    8\n",
            "4038  29/12/2004      0        23   11\n",
            "4039  30/12/2004      0        21  9.5\n",
            "4040  31/12/2004      0              6\n"
          ],
          "name": "stdout"
        }
      ]
    },
    {
      "cell_type": "markdown",
      "metadata": {
        "id": "O_OkWgvqmeF9"
      },
      "source": [
        "**Convetir objetos a numeros flotantes**\r\n"
      ]
    },
    {
      "cell_type": "code",
      "metadata": {
        "colab": {
          "base_uri": "https://localhost:8080/"
        },
        "id": "8XhTKSzUdbT-",
        "outputId": "92400300-e496-472b-eaa3-e4c49eefe118"
      },
      "source": [
        "# Deseamos convertir los valores de las variables ambientales a núm. flotantes \r\n",
        "cols_list = ['Precip', 'Evap', 'Tmax', 'Tmin']\r\n",
        "for cols in cols_list:\r\n",
        "  df_work1[cols] = pd.to_numeric(df_work1[cols], errors='coerce')\r\n",
        "\r\n",
        "df_work1.info()"
      ],
      "execution_count": 30,
      "outputs": [
        {
          "output_type": "stream",
          "text": [
            "<class 'pandas.core.frame.DataFrame'>\n",
            "RangeIndex: 4041 entries, 0 to 4040\n",
            "Data columns (total 5 columns):\n",
            " #   Column  Non-Null Count  Dtype  \n",
            "---  ------  --------------  -----  \n",
            " 0   Fecha   4041 non-null   object \n",
            " 1   Precip  4040 non-null   float64\n",
            " 2   Evap    2563 non-null   float64\n",
            " 3   Tmax    4024 non-null   float64\n",
            " 4   Tmin    4040 non-null   float64\n",
            "dtypes: float64(4), object(1)\n",
            "memory usage: 158.0+ KB\n"
          ],
          "name": "stdout"
        }
      ]
    },
    {
      "cell_type": "code",
      "metadata": {
        "colab": {
          "base_uri": "https://localhost:8080/"
        },
        "id": "tkVAmifOdt34",
        "outputId": "b6aee697-471e-435c-c9dd-3fe639796ffe"
      },
      "source": [
        "# De la instrucción anterior, vemos que hay valores faltantes. Sumamos los valores nulos. \r\n",
        "df_work1.isnull().sum()"
      ],
      "execution_count": 31,
      "outputs": [
        {
          "output_type": "execute_result",
          "data": {
            "text/plain": [
              "Fecha        0\n",
              "Precip       1\n",
              "Evap      1478\n",
              "Tmax        17\n",
              "Tmin         1\n",
              "dtype: int64"
            ]
          },
          "metadata": {
            "tags": []
          },
          "execution_count": 31
        }
      ]
    },
    {
      "cell_type": "code",
      "metadata": {
        "colab": {
          "base_uri": "https://localhost:8080/"
        },
        "id": "4tZh9w4igX9e",
        "outputId": "511ebe97-6e1b-4bec-e9dd-45d9421b988b"
      },
      "source": [
        "print(df_work1.head())\r\n",
        "print(df_work1.head())"
      ],
      "execution_count": 32,
      "outputs": [
        {
          "output_type": "stream",
          "text": [
            "        Fecha  Precip  Evap  Tmax  Tmin\n",
            "0  01/08/1977     0.0  11.5  40.0  27.0\n",
            "1  02/08/1977     0.0  10.9  39.0  27.0\n",
            "2  03/08/1977     0.0  11.5  42.0  25.0\n",
            "3  04/08/1977     0.0  11.5  43.0  24.0\n",
            "4  05/08/1977     0.0  10.8  43.0  24.0\n",
            "        Fecha  Precip  Evap  Tmax  Tmin\n",
            "0  01/08/1977     0.0  11.5  40.0  27.0\n",
            "1  02/08/1977     0.0  10.9  39.0  27.0\n",
            "2  03/08/1977     0.0  11.5  42.0  25.0\n",
            "3  04/08/1977     0.0  11.5  43.0  24.0\n",
            "4  05/08/1977     0.0  10.8  43.0  24.0\n"
          ],
          "name": "stdout"
        }
      ]
    },
    {
      "cell_type": "code",
      "metadata": {
        "colab": {
          "base_uri": "https://localhost:8080/"
        },
        "id": "VPYZDfzqgi79",
        "outputId": "6eec15b0-90cb-40a3-d21d-55082e063a11"
      },
      "source": [
        "print(df_work1.tail())\r\n",
        "print(df_work1.tail())"
      ],
      "execution_count": 33,
      "outputs": [
        {
          "output_type": "stream",
          "text": [
            "           Fecha  Precip  Evap  Tmax  Tmin\n",
            "4036  27/12/2004     0.0   NaN  22.0   6.0\n",
            "4037  28/12/2004     0.0   NaN  21.0   8.0\n",
            "4038  29/12/2004     0.0   NaN  23.0  11.0\n",
            "4039  30/12/2004     0.0   NaN  21.0   9.5\n",
            "4040  31/12/2004     0.0   NaN   NaN   6.0\n",
            "           Fecha  Precip  Evap  Tmax  Tmin\n",
            "4036  27/12/2004     0.0   NaN  22.0   6.0\n",
            "4037  28/12/2004     0.0   NaN  21.0   8.0\n",
            "4038  29/12/2004     0.0   NaN  23.0  11.0\n",
            "4039  30/12/2004     0.0   NaN  21.0   9.5\n",
            "4040  31/12/2004     0.0   NaN   NaN   6.0\n"
          ],
          "name": "stdout"
        }
      ]
    },
    {
      "cell_type": "code",
      "metadata": {
        "colab": {
          "base_uri": "https://localhost:8080/",
          "height": 282
        },
        "id": "SSWvNiKQgmwA",
        "outputId": "53d456ab-1ca1-40ae-b1da-13ad61955376"
      },
      "source": [
        "# Un análisis estadístico breve de las variables numéricas redondeado a 2 cifras significativas\r\n",
        "df_work1.describe().round(2)"
      ],
      "execution_count": 34,
      "outputs": [
        {
          "output_type": "execute_result",
          "data": {
            "text/html": [
              "<div>\n",
              "<style scoped>\n",
              "    .dataframe tbody tr th:only-of-type {\n",
              "        vertical-align: middle;\n",
              "    }\n",
              "\n",
              "    .dataframe tbody tr th {\n",
              "        vertical-align: top;\n",
              "    }\n",
              "\n",
              "    .dataframe thead th {\n",
              "        text-align: right;\n",
              "    }\n",
              "</style>\n",
              "<table border=\"1\" class=\"dataframe\">\n",
              "  <thead>\n",
              "    <tr style=\"text-align: right;\">\n",
              "      <th></th>\n",
              "      <th>Precip</th>\n",
              "      <th>Evap</th>\n",
              "      <th>Tmax</th>\n",
              "      <th>Tmin</th>\n",
              "    </tr>\n",
              "  </thead>\n",
              "  <tbody>\n",
              "    <tr>\n",
              "      <th>count</th>\n",
              "      <td>4040.00</td>\n",
              "      <td>2563.00</td>\n",
              "      <td>4024.00</td>\n",
              "      <td>4040.00</td>\n",
              "    </tr>\n",
              "    <tr>\n",
              "      <th>mean</th>\n",
              "      <td>0.85</td>\n",
              "      <td>6.82</td>\n",
              "      <td>30.85</td>\n",
              "      <td>13.32</td>\n",
              "    </tr>\n",
              "    <tr>\n",
              "      <th>std</th>\n",
              "      <td>4.67</td>\n",
              "      <td>3.61</td>\n",
              "      <td>8.36</td>\n",
              "      <td>7.57</td>\n",
              "    </tr>\n",
              "    <tr>\n",
              "      <th>min</th>\n",
              "      <td>0.00</td>\n",
              "      <td>0.20</td>\n",
              "      <td>6.00</td>\n",
              "      <td>-3.50</td>\n",
              "    </tr>\n",
              "    <tr>\n",
              "      <th>25%</th>\n",
              "      <td>0.00</td>\n",
              "      <td>3.85</td>\n",
              "      <td>24.00</td>\n",
              "      <td>7.00</td>\n",
              "    </tr>\n",
              "    <tr>\n",
              "      <th>50%</th>\n",
              "      <td>0.00</td>\n",
              "      <td>6.40</td>\n",
              "      <td>32.00</td>\n",
              "      <td>12.00</td>\n",
              "    </tr>\n",
              "    <tr>\n",
              "      <th>75%</th>\n",
              "      <td>0.00</td>\n",
              "      <td>9.70</td>\n",
              "      <td>38.50</td>\n",
              "      <td>20.00</td>\n",
              "    </tr>\n",
              "    <tr>\n",
              "      <th>max</th>\n",
              "      <td>119.80</td>\n",
              "      <td>17.80</td>\n",
              "      <td>48.00</td>\n",
              "      <td>30.00</td>\n",
              "    </tr>\n",
              "  </tbody>\n",
              "</table>\n",
              "</div>"
            ],
            "text/plain": [
              "        Precip     Evap     Tmax     Tmin\n",
              "count  4040.00  2563.00  4024.00  4040.00\n",
              "mean      0.85     6.82    30.85    13.32\n",
              "std       4.67     3.61     8.36     7.57\n",
              "min       0.00     0.20     6.00    -3.50\n",
              "25%       0.00     3.85    24.00     7.00\n",
              "50%       0.00     6.40    32.00    12.00\n",
              "75%       0.00     9.70    38.50    20.00\n",
              "max     119.80    17.80    48.00    30.00"
            ]
          },
          "metadata": {
            "tags": []
          },
          "execution_count": 34
        }
      ]
    },
    {
      "cell_type": "markdown",
      "metadata": {
        "id": "jlk6DpxXm6y4"
      },
      "source": [
        "**Ahora trabajaremos con la variable de fecha** "
      ]
    },
    {
      "cell_type": "code",
      "metadata": {
        "colab": {
          "base_uri": "https://localhost:8080/"
        },
        "id": "ybXEdFlpnCpY",
        "outputId": "71af2cec-fb2e-4bae-c28b-4e625b98582a"
      },
      "source": [
        "# Ahora hacemos una pausa y definimos un nuevo dataframe por si hay que regresarse.\r\n",
        "df_work2 = df_work1.copy()\r\n",
        "df_work2['Fecha'].head()"
      ],
      "execution_count": 35,
      "outputs": [
        {
          "output_type": "execute_result",
          "data": {
            "text/plain": [
              "0    01/08/1977\n",
              "1    02/08/1977\n",
              "2    03/08/1977\n",
              "3    04/08/1977\n",
              "4    05/08/1977\n",
              "Name: Fecha, dtype: object"
            ]
          },
          "metadata": {
            "tags": []
          },
          "execution_count": 35
        }
      ]
    },
    {
      "cell_type": "code",
      "metadata": {
        "colab": {
          "base_uri": "https://localhost:8080/"
        },
        "id": "nJ2GYp2jnJ5S",
        "outputId": "c17cb34f-4fad-4657-d799-f274f747476f"
      },
      "source": [
        "# Volvemos a hacer una pausa y definimos un nuevo dataframe por si hay que regresarse.\r\n",
        "df_work2 = df_work1.copy()\r\n",
        "df_work2['Fecha'].tail()"
      ],
      "execution_count": 36,
      "outputs": [
        {
          "output_type": "execute_result",
          "data": {
            "text/plain": [
              "4036    27/12/2004\n",
              "4037    28/12/2004\n",
              "4038    29/12/2004\n",
              "4039    30/12/2004\n",
              "4040    31/12/2004\n",
              "Name: Fecha, dtype: object"
            ]
          },
          "metadata": {
            "tags": []
          },
          "execution_count": 36
        }
      ]
    },
    {
      "cell_type": "code",
      "metadata": {
        "colab": {
          "base_uri": "https://localhost:8080/"
        },
        "id": "w8cY3gAbsiAi",
        "outputId": "ea360175-0366-4e09-8004-bc092fb497b1"
      },
      "source": [
        "# Pandas tiene la función pd.to_datetime que convierte una cadena en tipo datetime64[ns]\r\n",
        "# Intentamos a ver si Python reconoce el formato en nuestro caso. \r\n",
        "# Agregamos la opción de que el primer dato es el día (dayfirst=True)\r\n",
        "df_work2['Fecha']=pd.to_datetime(df_work2['Fecha'], dayfirst=True).copy()\r\n",
        "print(df_work1.head())"
      ],
      "execution_count": 37,
      "outputs": [
        {
          "output_type": "stream",
          "text": [
            "        Fecha  Precip  Evap  Tmax  Tmin\n",
            "0  01/08/1977     0.0  11.5  40.0  27.0\n",
            "1  02/08/1977     0.0  10.9  39.0  27.0\n",
            "2  03/08/1977     0.0  11.5  42.0  25.0\n",
            "3  04/08/1977     0.0  11.5  43.0  24.0\n",
            "4  05/08/1977     0.0  10.8  43.0  24.0\n"
          ],
          "name": "stdout"
        }
      ]
    },
    {
      "cell_type": "code",
      "metadata": {
        "colab": {
          "base_uri": "https://localhost:8080/"
        },
        "id": "yHE4j8mSssPt",
        "outputId": "5fd40a25-4312-4546-88ac-6a9d686d4ca9"
      },
      "source": [
        "# Observamos que la variable Fecha es de tipo 'datetime64[ns]'  \r\n",
        "df_work2.dtypes"
      ],
      "execution_count": 38,
      "outputs": [
        {
          "output_type": "execute_result",
          "data": {
            "text/plain": [
              "Fecha     datetime64[ns]\n",
              "Precip           float64\n",
              "Evap             float64\n",
              "Tmax             float64\n",
              "Tmin             float64\n",
              "dtype: object"
            ]
          },
          "metadata": {
            "tags": []
          },
          "execution_count": 38
        }
      ]
    },
    {
      "cell_type": "code",
      "metadata": {
        "id": "M6ZbAym7sxiM"
      },
      "source": [
        "# Buscamos ahora añadir dos columnas adicionales: df['Año'], df['Mes']\r\n",
        "# Usaremos la función .dt.year y .dt.month para extraer el Año y Mes de la Fecha\r\n",
        "df_work2['Año'] = df_work2['Fecha'].dt.year\r\n",
        "df_work2['Mes'] = df_work2['Fecha'].dt.month"
      ],
      "execution_count": 39,
      "outputs": []
    },
    {
      "cell_type": "code",
      "metadata": {
        "colab": {
          "base_uri": "https://localhost:8080/"
        },
        "id": "E3Ouxi4as3_d",
        "outputId": "610a3d91-f238-4e0a-f9bf-534cb31edfc5"
      },
      "source": [
        "# Verificamos que se hayan creado de forma correcta\r\n",
        "# Tendremos ahora dos columnas adicionales que podemos utilizar para filtrar información.\r\n",
        "print(df_work2.head())\r\n",
        "print(df_work2.tail())"
      ],
      "execution_count": 40,
      "outputs": [
        {
          "output_type": "stream",
          "text": [
            "       Fecha  Precip  Evap  Tmax  Tmin   Año  Mes\n",
            "0 1977-08-01     0.0  11.5  40.0  27.0  1977    8\n",
            "1 1977-08-02     0.0  10.9  39.0  27.0  1977    8\n",
            "2 1977-08-03     0.0  11.5  42.0  25.0  1977    8\n",
            "3 1977-08-04     0.0  11.5  43.0  24.0  1977    8\n",
            "4 1977-08-05     0.0  10.8  43.0  24.0  1977    8\n",
            "          Fecha  Precip  Evap  Tmax  Tmin   Año  Mes\n",
            "4036 2004-12-27     0.0   NaN  22.0   6.0  2004   12\n",
            "4037 2004-12-28     0.0   NaN  21.0   8.0  2004   12\n",
            "4038 2004-12-29     0.0   NaN  23.0  11.0  2004   12\n",
            "4039 2004-12-30     0.0   NaN  21.0   9.5  2004   12\n",
            "4040 2004-12-31     0.0   NaN   NaN   6.0  2004   12\n"
          ],
          "name": "stdout"
        }
      ]
    },
    {
      "cell_type": "code",
      "metadata": {
        "colab": {
          "base_uri": "https://localhost:8080/"
        },
        "id": "dguZh2j_s9v1",
        "outputId": "06dfc2a5-be5d-433d-cf6f-609d4d404aeb"
      },
      "source": [
        "# Verificamos que Año y Mes son variables enteras.\r\n",
        "# Hasta aquí llegaremos esta semana. \r\n",
        "df_work2.info()"
      ],
      "execution_count": 41,
      "outputs": [
        {
          "output_type": "stream",
          "text": [
            "<class 'pandas.core.frame.DataFrame'>\n",
            "RangeIndex: 4041 entries, 0 to 4040\n",
            "Data columns (total 7 columns):\n",
            " #   Column  Non-Null Count  Dtype         \n",
            "---  ------  --------------  -----         \n",
            " 0   Fecha   4041 non-null   datetime64[ns]\n",
            " 1   Precip  4040 non-null   float64       \n",
            " 2   Evap    2563 non-null   float64       \n",
            " 3   Tmax    4024 non-null   float64       \n",
            " 4   Tmin    4040 non-null   float64       \n",
            " 5   Año     4041 non-null   int64         \n",
            " 6   Mes     4041 non-null   int64         \n",
            "dtypes: datetime64[ns](1), float64(4), int64(2)\n",
            "memory usage: 221.1 KB\n"
          ],
          "name": "stdout"
        }
      ]
    },
    {
      "cell_type": "code",
      "metadata": {
        "id": "MVBKuGr5tBCA"
      },
      "source": [
        ""
      ],
      "execution_count": null,
      "outputs": []
    }
  ]
}