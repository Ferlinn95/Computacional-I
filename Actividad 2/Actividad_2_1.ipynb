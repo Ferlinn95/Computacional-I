{
  "nbformat": 4,
  "nbformat_minor": 0,
  "metadata": {
    "colab": {
      "name": "Actividad 2.1",
      "provenance": []
    },
    "kernelspec": {
      "name": "python3",
      "display_name": "Python 3"
    }
  },
  "cells": [
    {
      "cell_type": "markdown",
      "metadata": {
        "id": "6RdoRwXTmaHh"
      },
      "source": [
        "**David Fernando Rodriguez Arnold**\r\n",
        "\r\n",
        "19 / 01 / 21 "
      ]
    },
    {
      "cell_type": "markdown",
      "metadata": {
        "id": "h2_vUc_lodvy"
      },
      "source": [
        "**Ejercicio 1.** Se proporciona el siguiente programa para calcular el área y el perimetro de un rectángulo: \r\n",
        "\r\n",
        "Area: \r\n",
        "$$ A = b * a $$\r\n",
        "\r\n",
        "Perimetro:\r\n",
        "$$ P = \\frac{b * a}{2}$$  \r\n"
      ]
    },
    {
      "cell_type": "code",
      "metadata": {
        "id": "OyL9UiwajgtD"
      },
      "source": [
        "import numpy as np\r\n"
      ],
      "execution_count": null,
      "outputs": []
    },
    {
      "cell_type": "code",
      "metadata": {
        "colab": {
          "base_uri": "https://localhost:8080/"
        },
        "id": "OSICmcA4jp-9",
        "outputId": "5d366831-4337-4904-f425-7ce6f4a1227a"
      },
      "source": [
        "# Se define una función de 2 variables para calcular el área.  \r\n",
        "def area(x, y):\r\n",
        "    return x*y\r\n",
        "def perimetro (x, y):\r\n",
        "    return (x*y)/2\r\n",
        "\r\n",
        "print(\"Proporciona el largo y altura del rectángulo: \", end=\"\")\r\n",
        "l = float(input())\r\n",
        "w = float(input())\r\n",
        "a = area(l,w)\r\n",
        "p = perimetro(l,w)\r\n",
        "# Imprime el valor del área en formato libre.\r\n",
        "print(\"\\nArea = \", a)\r\n",
        "# Imprime el valor del área con 2 decimales. \r\n",
        "#print(\"\\nArea = {:.2f}\".format(a))\r\n",
        "print(\"\\nPerimetro = \", p)\r\n",
        "#print(\"\\nPerimetro = {:.2f}\".format(p))"
      ],
      "execution_count": null,
      "outputs": [
        {
          "output_type": "stream",
          "text": [
            "Proporciona el largo y altura del rectángulo: 1\n",
            "3\n",
            "\n",
            "Area =  3.0\n",
            "\n",
            "Perimetro =  1.5\n"
          ],
          "name": "stdout"
        }
      ]
    },
    {
      "cell_type": "markdown",
      "metadata": {
        "id": "fuvVBLfCoZIT"
      },
      "source": [
        "**Ejercicio 1-b:** Se proporciona el siguiente programa para calcular el área de un circulo:\r\n",
        "\r\n",
        "Area: \r\n",
        "$$ A = \\pi * r^2$$\r\n",
        "\r\n",
        "Perimetro:\r\n",
        "$$ P = 2 * \\pi * r$$ "
      ]
    },
    {
      "cell_type": "code",
      "metadata": {
        "colab": {
          "base_uri": "https://localhost:8080/"
        },
        "id": "8MtyguLRozxr",
        "outputId": "8634e514-69d9-4806-e374-0c5d0b6eb7ee"
      },
      "source": [
        "# Se define una función de 2 variables para calcular el área.  \r\n",
        "def area(x):\r\n",
        "    return np.pi*x**2\r\n",
        "def perimetro (x):\r\n",
        "    return 2*(np.pi)*(x)\r\n",
        "\r\n",
        "print(\"Proporciona el radio del circulo: \", end=\"\")\r\n",
        "\r\n",
        "w = float(input())\r\n",
        "\r\n",
        "a = area(w)\r\n",
        "p = perimetro(w)\r\n",
        "# Imprime el valor del área en formato libre.\r\n",
        "print(\"\\nArea = \", a)\r\n",
        "# Imprime el valor del área con 2 decimales. \r\n",
        "#print(\"\\nArea = {:.2f}\".format(a))\r\n",
        "print(\"\\nPerimetro = \", p)\r\n",
        "#print(\"\\nPerimetro = {:.2f}\".format(p))"
      ],
      "execution_count": null,
      "outputs": [
        {
          "output_type": "stream",
          "text": [
            "Proporciona el radio del circulo: 1\n",
            "\n",
            "Area =  3.141592653589793\n",
            "\n",
            "Perimetro =  6.283185307179586\n"
          ],
          "name": "stdout"
        }
      ]
    },
    {
      "cell_type": "code",
      "metadata": {
        "id": "HnUcQh4JwD1x"
      },
      "source": [
        ""
      ],
      "execution_count": null,
      "outputs": []
    },
    {
      "cell_type": "markdown",
      "metadata": {
        "id": "zBpuiLA4wFa1"
      },
      "source": [
        "**Ejercicio 1-c**: e proporciona el siguiente programa para calcular el área de una elipse:\r\n",
        "\r\n",
        "Area: \r\n",
        "$$ a = \\pi * r_{min} * r_{max}$$\r\n"
      ]
    },
    {
      "cell_type": "code",
      "metadata": {
        "colab": {
          "base_uri": "https://localhost:8080/"
        },
        "id": "2VEkSFCzwKCV",
        "outputId": "c9cdeec0-fc68-4b26-d9db-b568d133cb06"
      },
      "source": [
        "# Se define una función de 2 variables para calcular el área.  \r\n",
        "def area(x,y):\r\n",
        "    return np.pi*x*y\r\n",
        "#def H (x,y):\r\n",
        "    #return ((x-y)/(x+y))**2\r\n",
        "#def perimetro (x,y):\r\n",
        "    #return (np.pi)*(x+y)*(1 + (1/2)**2 * (H) (1/8)**2 * (H**2) + (1/48)**2 * (H**3))\r\n",
        "\r\n",
        "print(\"Proporciona el radio mayor y el menor: \", end=\"\")\r\n",
        "l = float(input())\r\n",
        "w = float(input())\r\n",
        "a = area(l,w)\r\n",
        "#p = perimetro(l,w)\r\n",
        "# Imprime el valor del área en formato libre.\r\n",
        "print(\"\\nArea = \", a)\r\n",
        "# Imprime el valor del área con 2 decimales. \r\n",
        "#print(\"\\nArea = {:.2f}\".format(a))\r\n",
        "#print(\"\\nPerimetro = \", p)\r\n",
        "#print(\"\\nPerimetro = {:.2f}\".format(p))"
      ],
      "execution_count": null,
      "outputs": [
        {
          "output_type": "stream",
          "text": [
            "Proporciona el radio mayor y el menor: 1\n",
            "2\n",
            "\n",
            "Area =  6.283185307179586\n"
          ],
          "name": "stdout"
        }
      ]
    },
    {
      "cell_type": "code",
      "metadata": {
        "id": "647NbzYM0pr_"
      },
      "source": [
        ""
      ],
      "execution_count": null,
      "outputs": []
    },
    {
      "cell_type": "markdown",
      "metadata": {
        "id": "zVVpGatc3EXi"
      },
      "source": [
        "**Ejercicio 1-d:** Se proporciona el siguiente programa para calcular el área de un esfera:\r\n",
        "\r\n",
        "Area:\r\n",
        "$$ a = 4 * \\pi * r^2$$\r\n",
        "\r\n",
        "Volumen: \r\n",
        "$$ V = \\frac{4}{3} * \\pi * r^3$$"
      ]
    },
    {
      "cell_type": "code",
      "metadata": {
        "colab": {
          "base_uri": "https://localhost:8080/"
        },
        "id": "Qe35W4zP5csT",
        "outputId": "1e96f596-d524-47b4-db1c-8ef7a0f40ce9"
      },
      "source": [
        "# Se define una función de 2 variables para calcular el área y volumen.  \r\n",
        "def area(x):\r\n",
        "    return np.pi*(4)*(x)**2\r\n",
        "#def perimetro (x):\r\n",
        "    #return 2*(np.pi)*(x)\r\n",
        "def volumen (x):\r\n",
        "    return np.pi*(4/3)*(x)**3\r\n",
        "\r\n",
        "print(\"Proporciona el radio de la esfera: \", end=\"\")\r\n",
        "print (\"\")\r\n",
        "w = float(input())\r\n",
        "\r\n",
        "a = area(w)\r\n",
        "#p = perimetro(w)\r\n",
        "v = volumen (w)\r\n",
        "# Imprime el valor del área en formato libre.\r\n",
        "print(\"\\nArea = \", a)\r\n",
        "# Imprime el valor del área con 2 decimales. \r\n",
        "#print(\"\\nArea = {:.2f}\".format(a))\r\n",
        "#print(\"\\nPerimetro = \", p)\r\n",
        "#print(\"\\nPerimetro = {:.2f}\".format(p))\r\n",
        "print(\"\\nVolumen = \", v)\r\n",
        "#print(\"\\nVolumen = {:.2f}\".format(v))"
      ],
      "execution_count": null,
      "outputs": [
        {
          "output_type": "stream",
          "text": [
            "Proporciona el radio de la esfera: \n",
            "12\n",
            "\n",
            "Area =  1809.5573684677208\n",
            "\n",
            "Volumen =  7238.229473870882\n"
          ],
          "name": "stdout"
        }
      ]
    },
    {
      "cell_type": "markdown",
      "metadata": {
        "id": "qt61etEgNx23"
      },
      "source": [
        "**Ejercicio 1-d:** Se proporciona el siguiente programa para calcular el área de un cilindro circular:\r\n",
        "\r\n",
        "Area:\r\n",
        "$$ a = \\pi * r * ( r+ h )$$\r\n",
        "\r\n",
        "Volumen:\r\n",
        "$$ V = \\pi * r^2 * h$$"
      ]
    },
    {
      "cell_type": "code",
      "metadata": {
        "colab": {
          "base_uri": "https://localhost:8080/"
        },
        "id": "4ft3pv6UN6nP",
        "outputId": "491f9c68-aa30-4923-8cfd-8eb0f15ce847"
      },
      "source": [
        "# Se define una función de 2 variables para calcular el área y volumen.  \r\n",
        "def area(x,y):\r\n",
        "    return np.pi*(2)*(x)*(x+y)\r\n",
        "#def perimetro (x):\r\n",
        "    #return 2*(np.pi)*(x)\r\n",
        "def volumen (x,y):\r\n",
        "    return np.pi*(y)*(x)**2\r\n",
        "\r\n",
        "print(\"Proporciona el radio y la altura del cilindro: \", end=\"\")\r\n",
        "print (\"\")\r\n",
        "l = float(input())\r\n",
        "w = float(input())\r\n",
        "\r\n",
        "a = area(l,w)\r\n",
        "#p = perimetro(w)\r\n",
        "v = volumen (l,w)\r\n",
        "# Imprime el valor del área en formato libre.\r\n",
        "print(\"\\nArea = \", a)\r\n",
        "# Imprime el valor del área con 2 decimales. \r\n",
        "#print(\"\\nArea = {:.2f}\".format(a))\r\n",
        "#print(\"\\nPerimetro = \", p)\r\n",
        "#print(\"\\nPerimetro = {:.2f}\".format(p))\r\n",
        "print(\"\\nVolumen = \", v)\r\n",
        "#print(\"\\nVolumen = {:.2f}\".format(v))"
      ],
      "execution_count": null,
      "outputs": [
        {
          "output_type": "stream",
          "text": [
            "Proporciona el radio y la altura del cilindro: \n",
            "1\n",
            "2\n",
            "\n",
            "Area =  18.84955592153876\n",
            "\n",
            "Volumen =  6.283185307179586\n"
          ],
          "name": "stdout"
        }
      ]
    },
    {
      "cell_type": "markdown",
      "metadata": {
        "id": "SZTHMhiU3DZY"
      },
      "source": [
        "**Ejercicio 2.** Desarrollar un programa en Python que calcule las raíces de una ecuación cuadrática. \r\n",
        "\r\n",
        "Dada la ecuacion cuadratica\r\n",
        "$$ ax^2 + bx + c = 0 $$\r\n",
        "\r\n",
        "Utilizando la **Formula general** para obtener las raices:\r\n",
        "\r\n",
        "$$x = \\frac{-b ± \\sqrt(b^2 - 4ac)}{2a}$$    "
      ]
    },
    {
      "cell_type": "code",
      "metadata": {
        "id": "-pkKv-5PQtL3",
        "colab": {
          "base_uri": "https://localhost:8080/"
        },
        "outputId": "4aac1222-d49c-4b33-ca43-6a71c21efe5c"
      },
      "source": [
        "import numpy as np\r\n",
        "import math\r\n",
        "\r\n",
        "def r_1(x,y,z):\r\n",
        "  return ((-y+(np.sqrt((y**2)-4*x*z)))/(2*x))\r\n",
        "def r_2(x,y,z):\r\n",
        "  return ((-y-(np.sqrt((y**2)-4*x*z)))/(2*x))\r\n",
        "\r\n",
        "print(\"Proporciona los valores de la ecuacion:\", end=\"\")\r\n",
        "l = float(input(\"\\nTermino cuadratico: \"))\r\n",
        "t = float(input(\"Termino lineal: \"))\r\n",
        "n = float(input(\"Termino independiente: \"))\r\n",
        "a = r_1(l,t,n) \r\n",
        "p = r_2(l,t,n)\r\n",
        "\r\n",
        "print(\"\\nraiz_1 = \", a)\r\n",
        "print(\"\\nraiz_2 = \", p)"
      ],
      "execution_count": 3,
      "outputs": [
        {
          "output_type": "stream",
          "text": [
            "Proporciona los valores de la ecuacion:\n",
            "Termino cuadratico: 2\n",
            "Termino lineal: 9\n",
            "Termino independiente: 10\n",
            "\n",
            "raiz_1 =  -2.0\n",
            "\n",
            "raiz_2 =  -2.5\n"
          ],
          "name": "stdout"
        }
      ]
    },
    {
      "cell_type": "markdown",
      "metadata": {
        "id": "mqR1i3lV3YoD"
      },
      "source": [
        "**Ejercicio 3.** Implementar el método Babilonio (o Método de Herón), para calcular la raíz cuadrada de un número S, cuando la sucesión converja con un error menor a 0.01. Compare con el valor obtenido por el método Babilonio con el valor de la función np.sqrt(S).\r\n",
        "\r\n",
        " La idea básica es que si x es una sobreestimación de la raíz cuadrada de un número real no negativo $$S$$ entonces\r\n",
        "$$\\frac{S}{X}$$\r\n",
        "\r\n",
        "será una subestimación, o viceversa, por lo que se puede esperar razonablemente que el promedio de estos dos números proporcione una mejor aproximación (aunque la prueba formal de esa afirmación depende de la desigualdad de las medias aritmética y geométrica que muestra que este promedio es siempre un sobreestimar la raíz cuadrada, como se indica en el artículo sobre raíces cuadradas , asegurando así la convergencia). Esto es equivalente a usar el método de Newton para resolver:\r\n",
        "$${x^{2}-S = 0}$$"
      ]
    },
    {
      "cell_type": "code",
      "metadata": {
        "id": "gRuoqDFP3OB4"
      },
      "source": [
        "#import numpy as np\r\n",
        "\r\n",
        "#def raiz(x):\r\n",
        "#  return np.sqrt(x)\r\n",
        "\r\n",
        "#print(\"Proporciona un numero para calcular su raiz cuadrada.\", end=\"\")\r\n",
        "\r\n",
        "#l = float(input(\"\\nIngrese el numero: \"))\r\n",
        "#a = raiz(l) \r\n",
        "#print(\"\\nLa raiz cuadrada es:\", a)\r\n",
        "\r\n",
        "#def raiz_bab(x):\r\n",
        "#\ty = x / 2\r\n",
        "\r\n",
        "#\tfor i in range(15):\r\n",
        "#\t\tif y*y==x:\r\n",
        "#\t\t\treturn y\r\n",
        "#\t\telse:\r\n",
        "#\t\t\ty = (y+(x/y))/2\r\n",
        "#\treturn y\r\n",
        "\r\n",
        "#print(\"\\nLa raiz babilonica es:\", raiz_bab(l))\r\n"
      ],
      "execution_count": null,
      "outputs": []
    },
    {
      "cell_type": "code",
      "metadata": {
        "colab": {
          "base_uri": "https://localhost:8080/"
        },
        "id": "0zXXp5163loX",
        "outputId": "657c98a3-de3a-441f-870b-c8dbf14a627a"
      },
      "source": [
        "import numpy as np\r\n",
        "\r\n",
        "def raiz(x):\r\n",
        "  return np.sqrt(x)\r\n",
        "\r\n",
        "print(\"Proporciona un numero para calcular su raiz cuadrada.\", end=\"\")\r\n",
        "\r\n",
        "l = float(input(\"\\nIngrese el numero: \"))\r\n",
        "a = raiz(l) \r\n",
        "print(\"\\nLa raiz cuadrada es:\", a)\r\n",
        "\r\n",
        "\r\n",
        "def raiz_bab(x):\r\n",
        "\ty = x / 2\r\n",
        "\terror=a-y\r\n",
        "\twhile abs(error)>0.01:\r\n",
        "\t\ty=(y+(x/y))/2\r\n",
        "\t\terror=a-y\r\n",
        "\treturn y\r\n",
        "\r\n",
        "print(\"\\nLa raiz babilonica es:\", raiz_bab(l))"
      ],
      "execution_count": 4,
      "outputs": [
        {
          "output_type": "stream",
          "text": [
            "Proporciona un numero para calcular su raiz cuadrada.\n",
            "Ingrese el numero: 81\n",
            "\n",
            "La raiz cuadrada es: 9.0\n",
            "\n",
            "La raiz babilonica es: 9.000009415515176\n"
          ],
          "name": "stdout"
        }
      ]
    },
    {
      "cell_type": "code",
      "metadata": {
        "id": "hLJf8Wji3pZ9"
      },
      "source": [
        ""
      ],
      "execution_count": null,
      "outputs": []
    }
  ]
}