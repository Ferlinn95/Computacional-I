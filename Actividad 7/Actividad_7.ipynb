{
  "nbformat": 4,
  "nbformat_minor": 0,
  "metadata": {
    "colab": {
      "name": "Actividad 7",
      "provenance": []
    },
    "kernelspec": {
      "name": "python3",
      "display_name": "Python 3"
    }
  },
  "cells": [
    {
      "cell_type": "markdown",
      "metadata": {
        "id": "wy_ICAz1tRVJ"
      },
      "source": [
        "#**Actividad 7**\n",
        "Algebra lineal con Scipy\\ Utilizaremos la biblioteca scipy.linalg para operar con vectores y matrices (Arreglos de NumPy: 1-D, 2-D, 3-D, etc)."
      ]
    },
    {
      "cell_type": "code",
      "metadata": {
        "id": "sdiD8gXtrZHK"
      },
      "source": [
        " #Cargamos las bibliotecas para trabajar con Algebra Lineal\n",
        "\n",
        "import numpy as np\n",
        "import scipy.linalg as la\n",
        "from numpy.linalg import matrix_power as mpow\n",
        "\n",
        "import matplotlib.pyplot as plt\n",
        "%matplotlib inline"
      ],
      "execution_count": 2,
      "outputs": []
    },
    {
      "cell_type": "code",
      "metadata": {
        "colab": {
          "base_uri": "https://localhost:8080/"
        },
        "id": "ufy5TpMU3-Ga",
        "outputId": "3969a1b2-69d0-459e-f040-efd6dbca6bd2"
      },
      "source": [
        "# Definimos un arreglo 2-D\n",
        "# Una matriz M de dimensión 2 (2-D)\n",
        "A=np.array([[1,2],[3,4]])\n",
        "print(A)"
      ],
      "execution_count": 3,
      "outputs": [
        {
          "output_type": "stream",
          "text": [
            "[[1 2]\n",
            " [3 4]]\n"
          ],
          "name": "stdout"
        }
      ]
    },
    {
      "cell_type": "code",
      "metadata": {
        "colab": {
          "base_uri": "https://localhost:8080/"
        },
        "id": "HtL2u8qd4J_4",
        "outputId": "ce5e8449-ee21-4422-909f-957a0721264a"
      },
      "source": [
        "# Propiedades del arreglo anterior. \n",
        "print('Número de dimensiones:', A.ndim)\n",
        "print('Forma (shape):', A.shape)\n",
        "print('Tamaño (size):', A.size)"
      ],
      "execution_count": 4,
      "outputs": [
        {
          "output_type": "stream",
          "text": [
            "Número de dimensiones: 2\n",
            "Forma (shape): (2, 2)\n",
            "Tamaño (size): 4\n"
          ],
          "name": "stdout"
        }
      ]
    },
    {
      "cell_type": "code",
      "metadata": {
        "colab": {
          "base_uri": "https://localhost:8080/"
        },
        "id": "y-hEVA8m4dPh",
        "outputId": "4cd7cca4-98f4-4fd6-d009-659e24f8b11d"
      },
      "source": [
        "col = A[:,1] \n",
        "print(col)"
      ],
      "execution_count": 5,
      "outputs": [
        {
          "output_type": "stream",
          "text": [
            "[2 4]\n"
          ],
          "name": "stdout"
        }
      ]
    },
    {
      "cell_type": "code",
      "metadata": {
        "colab": {
          "base_uri": "https://localhost:8080/"
        },
        "id": "e-41DaVQ4uPA",
        "outputId": "6a18880a-031f-4ad0-9633-2cae9bf456d8"
      },
      "source": [
        "# Definimos nuevamente un arreglo 2-D\n",
        "# Una matriz M de dimensión 2 (2-D)\n",
        "B=np.array([[10,12],[14,-16]])\n",
        "print(B)"
      ],
      "execution_count": 6,
      "outputs": [
        {
          "output_type": "stream",
          "text": [
            "[[ 10  12]\n",
            " [ 14 -16]]\n"
          ],
          "name": "stdout"
        }
      ]
    },
    {
      "cell_type": "code",
      "metadata": {
        "colab": {
          "base_uri": "https://localhost:8080/"
        },
        "id": "78zmgbLn5QzL",
        "outputId": "77e9192d-c1ec-4cc4-8517-f7c5af2b09c8"
      },
      "source": [
        "# Propiedades del arreglo anterior. \n",
        "print('Número de dimensiones:', B.ndim)\n",
        "print('Forma (shape):', B.shape)\n",
        "print('Tamaño (size):', B.size)"
      ],
      "execution_count": 7,
      "outputs": [
        {
          "output_type": "stream",
          "text": [
            "Número de dimensiones: 2\n",
            "Forma (shape): (2, 2)\n",
            "Tamaño (size): 4\n"
          ],
          "name": "stdout"
        }
      ]
    },
    {
      "cell_type": "code",
      "metadata": {
        "colab": {
          "base_uri": "https://localhost:8080/"
        },
        "id": "OZr1eS655XCy",
        "outputId": "38f31951-30fe-41a0-8dc8-2cdfb2d330d8"
      },
      "source": [
        "#Realizamos un calculo simple MULTIPLICACION\n",
        "A*B"
      ],
      "execution_count": 8,
      "outputs": [
        {
          "output_type": "execute_result",
          "data": {
            "text/plain": [
              "array([[ 10,  24],\n",
              "       [ 42, -64]])"
            ]
          },
          "metadata": {
            "tags": []
          },
          "execution_count": 8
        }
      ]
    },
    {
      "cell_type": "code",
      "metadata": {
        "colab": {
          "base_uri": "https://localhost:8080/"
        },
        "id": "lvKFz3nvD6_K",
        "outputId": "da07f5df-6466-4d5f-83f8-f7ec1ca5bbe0"
      },
      "source": [
        "A@A"
      ],
      "execution_count": 9,
      "outputs": [
        {
          "output_type": "execute_result",
          "data": {
            "text/plain": [
              "array([[ 7, 10],\n",
              "       [15, 22]])"
            ]
          },
          "metadata": {
            "tags": []
          },
          "execution_count": 9
        }
      ]
    },
    {
      "cell_type": "markdown",
      "metadata": {
        "id": "efO8ta246HJd"
      },
      "source": [
        "#**EJERCICIO** **1**\n",
        "Definir un par de matrices y la matriz identidad, luego realizar el siguiente calculo:\n",
        "ecuación\n",
        "$$2 * I + 3 * A + A @ B.$$\n",
        "\n",
        "Para definir la matriz identidad, se puede utilizar la función **np.eye(2, dtype=int)**. Ver manual de **np.eye()**.\n",
        "\n",
        "\n",
        "**Potencias de Matrices**\n",
        "\n",
        "No existe un símbolo para denotar las potencias de matrices. Por eso definimos la función '**mpow**' en la 1a celda de bibliotecas.\n",
        "\n",
        "**from numpy.linalg import matrix_power as mpow**"
      ]
    },
    {
      "cell_type": "code",
      "metadata": {
        "colab": {
          "base_uri": "https://localhost:8080/"
        },
        "id": "-M9JSsKa54cf",
        "outputId": "02edd7b0-30fa-4ef5-c28a-2bf48e443b81"
      },
      "source": [
        "# Definimos un arreglo 2-D con la función eye que sera nuestra mariz identidad\n",
        "# Una matriz M de dimensión 2 (2-D)\n",
        "I=np.eye(2, dtype=int)\n",
        "print(I)"
      ],
      "execution_count": 10,
      "outputs": [
        {
          "output_type": "stream",
          "text": [
            "[[1 0]\n",
            " [0 1]]\n"
          ],
          "name": "stdout"
        }
      ]
    },
    {
      "cell_type": "code",
      "metadata": {
        "id": "p-5s8vxnEUQG",
        "colab": {
          "base_uri": "https://localhost:8080/"
        },
        "outputId": "8c61baaf-2527-469e-ee9b-866ba8768fed"
      },
      "source": [
        "#solo para confirmar resultado\n",
        "#Calcular el resultado\n",
        "C = (2*I) \n",
        "print('El resultado es')\n",
        "print(C)\n",
        "D = (3*A)\n",
        "print('El resultado es')\n",
        "print (D)\n",
        "E = (A*B)\n",
        "print('El resultado es')\n",
        "print (E)\n",
        "F = C + D + E \n",
        "print(\"el resultado total es:\")\n",
        "print (F)"
      ],
      "execution_count": 11,
      "outputs": [
        {
          "output_type": "stream",
          "text": [
            "El resultado es\n",
            "[[2 0]\n",
            " [0 2]]\n",
            "El resultado es\n",
            "[[ 3  6]\n",
            " [ 9 12]]\n",
            "El resultado es\n",
            "[[ 10  24]\n",
            " [ 42 -64]]\n",
            "el resultado total es:\n",
            "[[ 15  30]\n",
            " [ 51 -50]]\n"
          ],
          "name": "stdout"
        }
      ]
    },
    {
      "cell_type": "code",
      "metadata": {
        "colab": {
          "base_uri": "https://localhost:8080/"
        },
        "id": "brtj1lhbFdmx",
        "outputId": "10d2b334-20c4-4eed-c392-55d1a3b4c1f2"
      },
      "source": [
        "#Calcular el resultado\n",
        "C= (2*I)+(3*A)+(A*B) \n",
        "#print('El resultado es')\n",
        "print(C)"
      ],
      "execution_count": 12,
      "outputs": [
        {
          "output_type": "stream",
          "text": [
            "[[ 15  30]\n",
            " [ 51 -50]]\n"
          ],
          "name": "stdout"
        }
      ]
    },
    {
      "cell_type": "code",
      "metadata": {
        "id": "9nFJKwurFf4b",
        "colab": {
          "base_uri": "https://localhost:8080/"
        },
        "outputId": "d2037a32-991d-436f-98d1-1fb607d75ef3"
      },
      "source": [
        "#Calcular el resultado\n",
        "C_2= (2*I)+(3*A)+(A@B) \n",
        "#print('El resultado es')\n",
        "print(C)"
      ],
      "execution_count": 13,
      "outputs": [
        {
          "output_type": "stream",
          "text": [
            "[[ 15  30]\n",
            " [ 51 -50]]\n"
          ],
          "name": "stdout"
        }
      ]
    },
    {
      "cell_type": "markdown",
      "metadata": {
        "id": "6vAAg1jC_CLk"
      },
      "source": [
        "#**Actividad** **2**\n",
        "Los polinomios característicos y el Teorema de Cayley-Hamilton.\n",
        "\n",
        "El polinomio característico de una matriz M esta dado en general por la ecuación$$\n",
        "\\det(M - \\lambda I) = 0\n",
        "$$Para una matriz cuadrada M (2x2), el polinomio característico se puede escribir como$$\n",
        "P_2 (\\lambda) = \\det{(M)} - \\mathrm{tr}(M) \\, \\lambda + \\lambda^2   \n",
        "$$y para una matriz cuadrada M (3x3), el polinomio característico resulta ser\n",
        "\n",
        "$$\n",
        "P_3 (\\lambda) = \\frac{1}{6} \n",
        "[ \\mathrm{tr}^3 (M) + 2 \\, \\mathrm{tr }(M^3) - 3 \\, \\mathrm{tr}(M) \\mathrm{tr}(M^2) ] - \n",
        "\\frac{1}{2} [ \\mathrm{tr}^2 (M) - \\mathrm{tr}(M^2) ] \\lambda + \\mathrm{tr}(M) \\lambda^2 - \\lambda^3\n",
        "$$\n",
        "El Teorema de Cayley-Hamilton nos dice que una matriz cuadrada M (2x2), satisface el polinomio característico$$\n",
        "P_2(M) = \\det(M) - \\mathrm{tr}(M) M + M^2 \n",
        "$$y en general cualquier matriz cuadrada M (nxn), satisface $P_n(M)$.\n",
        "\n",
        "**Demuestre esto para cualquier matriz M (2x2), ($\\det(M) \\neq 0$).**\n"
      ]
    },
    {
      "cell_type": "code",
      "metadata": {
        "colab": {
          "base_uri": "https://localhost:8080/"
        },
        "id": "RbUUgoFN99t2",
        "outputId": "ba0e9854-b4ed-494c-bec5-33aa3804e02e"
      },
      "source": [
        "# Definimos una matriz M\n",
        "M=np.array([[11,9],[4,-6]])\n",
        "print(M)"
      ],
      "execution_count": 14,
      "outputs": [
        {
          "output_type": "stream",
          "text": [
            "[[11  9]\n",
            " [ 4 -6]]\n"
          ],
          "name": "stdout"
        }
      ]
    },
    {
      "cell_type": "code",
      "metadata": {
        "id": "ImBIHqE9GDAk",
        "colab": {
          "base_uri": "https://localhost:8080/"
        },
        "outputId": "0bc6f844-fed5-457b-86fc-a187841c1928"
      },
      "source": [
        "# Hacemos la traza de la Matriz M\n",
        "tr_M=np.trace(M)\n",
        "# El determinante de la Matriz M \n",
        "det_M=la.det(M)\n",
        "#Matriz de identidad\n",
        "I=np.eye(2, dtype=int)\n",
        "\n",
        "#Probando el teorema Cayley-Hamilton\n",
        "P=mpow(M,2) - tr_M*M + det_M * I\n",
        "print(P)\n",
        "#print(det_M)"
      ],
      "execution_count": 15,
      "outputs": [
        {
          "output_type": "stream",
          "text": [
            "[[0. 0.]\n",
            " [0. 0.]]\n"
          ],
          "name": "stdout"
        }
      ]
    },
    {
      "cell_type": "markdown",
      "metadata": {
        "id": "5fk5Kyto7lvB"
      },
      "source": [
        "#**Actividad** **3**\n",
        "Resolver el siguiente sistema de ecuacines: \n",
        "$$\n",
        "x-3y+z=1\n",
        "$$\n",
        "$$\n",
        "3x-4y+z=5\n",
        "$$\n",
        "$$\n",
        "2y-z=0\n",
        "$$\n",
        "Utilizando el **Metodo de eliminacion Gaussiana** y la utilizando la funcion **scipy.linalg.solve()**\n",
        "\n",
        "\n",
        "\n"
      ]
    },
    {
      "cell_type": "code",
      "metadata": {
        "id": "t7Vt1TQv7P6k"
      },
      "source": [
        "#Metodo de eliminacion Gaussiana\n",
        "#Resscribiendo el SE en una matrix\n",
        "def switch_rows(A,i,j):\n",
        "  \"Intercambiar renglones i y j en la Matriz A.\"\n",
        "  n=A.shape[0]\n",
        "  E=np.eye(n)\n",
        "  E[i,i]=0\n",
        "  E[j,j]=0\n",
        "  E[i,j]=1\n",
        "  E[j,i]=1\n",
        "  return E @ A\n",
        "\n",
        "# Multiplicar un renglón por un aconstante no nula.\n",
        "def scale_row(A,k,i):\n",
        "  \"Multiplicar el renglón i por k en la Matriz A.\"\n",
        "  n=A.shape[0]\n",
        "  E=np.eye(n)\n",
        "  E[i,i]=k\n",
        "  return E @ A\n",
        "\n",
        "# Sumar un múltiplo de un renglón a otro renglón.\n",
        "def add_row(A,k,i,j):\n",
        "  \"Sumar k vaces el renglón j al renglón i en la Matriz A.\"\n",
        "  n=A.shape[0]\n",
        "  E=np.eye(n)\n",
        "  if i== j:\n",
        "    E[i,j]=k+1\n",
        "  else:\n",
        "    E[i,j]=k\n",
        "  return E @ A"
      ],
      "execution_count": 16,
      "outputs": []
    },
    {
      "cell_type": "code",
      "metadata": {
        "colab": {
          "base_uri": "https://localhost:8080/"
        },
        "id": "HgtURJIK_EEn",
        "outputId": "37985086-d388-480a-9fcc-92ccd8faaa34"
      },
      "source": [
        "#Definimos la matriz F:\n",
        "F = np.array([[1,-3,1,1],[3,-4,1,5],[0,2,-1,0]])\n",
        "print(\"Matriz F = \")\n",
        "print(F)"
      ],
      "execution_count": 17,
      "outputs": [
        {
          "output_type": "stream",
          "text": [
            "Matriz F = \n",
            "[[ 1 -3  1  1]\n",
            " [ 3 -4  1  5]\n",
            " [ 0  2 -1  0]]\n"
          ],
          "name": "stdout"
        }
      ]
    },
    {
      "cell_type": "code",
      "metadata": {
        "colab": {
          "base_uri": "https://localhost:8080/"
        },
        "id": "YsppEVxf_8ND",
        "outputId": "2249a0a2-51d2-4265-d191-0cf3c4d46676"
      },
      "source": [
        "#Comenzando con la eliminacion\n",
        "F1 = (scale_row(F,3,0))\n",
        "print(scale_row(F,3,0))"
      ],
      "execution_count": 18,
      "outputs": [
        {
          "output_type": "stream",
          "text": [
            "[[ 3. -9.  3.  3.]\n",
            " [ 3. -4.  1.  5.]\n",
            " [ 0.  2. -1.  0.]]\n"
          ],
          "name": "stdout"
        }
      ]
    },
    {
      "cell_type": "code",
      "metadata": {
        "colab": {
          "base_uri": "https://localhost:8080/"
        },
        "id": "KpR8iJvUAM0h",
        "outputId": "f7cb6312-dbed-4f85-ccc8-5536e03a2d88"
      },
      "source": [
        "F2 = add_row(F1,-1,1,0)\n",
        "print(F2)"
      ],
      "execution_count": 19,
      "outputs": [
        {
          "output_type": "stream",
          "text": [
            "[[ 3. -9.  3.  3.]\n",
            " [ 0.  5. -2.  2.]\n",
            " [ 0.  2. -1.  0.]]\n"
          ],
          "name": "stdout"
        }
      ]
    },
    {
      "cell_type": "code",
      "metadata": {
        "colab": {
          "base_uri": "https://localhost:8080/"
        },
        "id": "QVxzjy37Abb3",
        "outputId": "f4eb697a-71bf-4adc-c3f5-1e026cd2036b"
      },
      "source": [
        "F3 = scale_row(F2,2,1)\n",
        "F4 = scale_row(F3,5,2)\n",
        "print(F4)"
      ],
      "execution_count": 20,
      "outputs": [
        {
          "output_type": "stream",
          "text": [
            "[[ 3. -9.  3.  3.]\n",
            " [ 0. 10. -4.  4.]\n",
            " [ 0. 10. -5.  0.]]\n"
          ],
          "name": "stdout"
        }
      ]
    },
    {
      "cell_type": "code",
      "metadata": {
        "colab": {
          "base_uri": "https://localhost:8080/"
        },
        "id": "DhYNlU0RAm1k",
        "outputId": "390db888-5fa5-4857-de2c-9d5a2b6d9adf"
      },
      "source": [
        "F5 = add_row(F4,-1,2,1)\n",
        "print(F5)"
      ],
      "execution_count": 21,
      "outputs": [
        {
          "output_type": "stream",
          "text": [
            "[[ 3. -9.  3.  3.]\n",
            " [ 0. 10. -4.  4.]\n",
            " [ 0.  0. -1. -4.]]\n"
          ],
          "name": "stdout"
        }
      ]
    },
    {
      "cell_type": "markdown",
      "metadata": {
        "id": "pz1ObohRDTw4"
      },
      "source": [
        "De aqui podemos obtener el valor de Z que es: \n",
        "$$\n",
        "Z=4\n",
        "$$\n",
        "Pero una vez obtenido el valor de Z podemos sustituirlo en la segunda ecuacion:\n",
        "$$\n",
        "10y-4(4)=4\n",
        "$$\n",
        "$$\n",
        "10y-16=4\n",
        "$$\n",
        "$$\n",
        "10y=20\n",
        "$$\n",
        "Por lo tanto el valor de Y es:\n",
        "$$\n",
        "Y=2\n",
        "$$\n",
        "Una vez obenido el valor de Y y Z podemos sustituirlo en la primer ecuacion para obtener el valor de X\n",
        "$$\n",
        "3x-9(2)+3(4)=3\n",
        "$$\n",
        "$$\n",
        "3x-18+12=3\n",
        "$$\n",
        "$$\n",
        "3x-6=3\n",
        "$$\n",
        "Por lo que el valor de X es:\n",
        "$$\n",
        "X=3\n",
        "$$"
      ]
    },
    {
      "cell_type": "code",
      "metadata": {
        "colab": {
          "base_uri": "https://localhost:8080/"
        },
        "id": "7igawZn3DNPS",
        "outputId": "33b69997-e4cd-4f25-a64c-477cb57f48e5"
      },
      "source": [
        "#Ahora utilizando la funcion spicy.linalg.solve()\n",
        "# Definiendo el vector b\n",
        "b=np.array([1,5,0]).reshape(3,1)\n",
        "print(b)"
      ],
      "execution_count": 22,
      "outputs": [
        {
          "output_type": "stream",
          "text": [
            "[[1]\n",
            " [5]\n",
            " [0]]\n"
          ],
          "name": "stdout"
        }
      ]
    },
    {
      "cell_type": "code",
      "metadata": {
        "colab": {
          "base_uri": "https://localhost:8080/"
        },
        "id": "64yKY2qXGIku",
        "outputId": "03702776-f59d-4a47-df1f-a5932d5b9366"
      },
      "source": [
        "#Definimos la matriz que vamos a utilizar:\n",
        "G = np.array([[1,-3,1],[3,-4,1],[0,2,-1]])\n",
        "print(\"Matriz G = \")\n",
        "print(G)"
      ],
      "execution_count": 23,
      "outputs": [
        {
          "output_type": "stream",
          "text": [
            "Matriz G = \n",
            "[[ 1 -3  1]\n",
            " [ 3 -4  1]\n",
            " [ 0  2 -1]]\n"
          ],
          "name": "stdout"
        }
      ]
    },
    {
      "cell_type": "code",
      "metadata": {
        "colab": {
          "base_uri": "https://localhost:8080/"
        },
        "id": "eeW0Kg-BGtb_",
        "outputId": "d472e05a-f73a-4e35-f9ef-30e9231e3d58"
      },
      "source": [
        "# Resolviendo el sistema de ecuaciones usando scipy.linalg.solve\n",
        "G_sol = la.solve(G, b)\n",
        "print(G_sol)"
      ],
      "execution_count": 24,
      "outputs": [
        {
          "output_type": "stream",
          "text": [
            "[[3.]\n",
            " [2.]\n",
            " [4.]]\n"
          ],
          "name": "stdout"
        }
      ]
    },
    {
      "cell_type": "markdown",
      "metadata": {
        "id": "bJbzHvkvG5zp"
      },
      "source": [
        "Por lo tanto podemos notar que los resultado por el metodo de eliminacion Gaussiana y el anterior dan el **MISMO RESULTADO**"
      ]
    },
    {
      "cell_type": "markdown",
      "metadata": {
        "id": "BzQbUIp4UD3C"
      },
      "source": [
        "#**Actividad** **4**\n",
        "Dada las siguientes matrices B_1,B_2, B_3: \n",
        "(Ejemplo tomado de Wikipedia  sobre Eigenvalores y Eigenvectores)\n",
        "\n",
        "\\begin{equation}\n",
        "B_1=\n",
        "  \\begin{bmatrix}\n",
        "  2 & 0 & 0\\\\\n",
        "  0 & 3 & 4\\\\\n",
        "  0 & 4 & 9\n",
        "  \\end{bmatrix}\n",
        "\\end{equation}\\\\\n",
        "\\begin{equation}\n",
        "B_2=\n",
        "  \\begin{bmatrix}\n",
        "  0 & 1 & 0\\\\\n",
        "  0 & 0 & 1\\\\\n",
        "  1 & 0 & 0\n",
        "  \\end{bmatrix}\n",
        "\\end{equation}\\\\\n",
        "\\begin{equation}\n",
        "B_3=\n",
        "  \\begin{bmatrix}\n",
        "  2 & 0 & 0 & 0\\\\\n",
        "  1 & 2 & 0 & 0\\\\\n",
        "  0 & 1 & 3 & 0\\\\\n",
        "  0 & 0 & 1 & 3\n",
        "  \\end{bmatrix}\n",
        "\\end{equation}\n",
        "\n",
        "Encontrar los **Eigenvalores** y los **Eigenvectores** de cada mariz utilizando la funcion de **spicy.linalg.eig(), y contrastar los resultados en cada uno de los casos con los que se desarrollan en los ejemplos de Wiki..."
      ]
    },
    {
      "cell_type": "code",
      "metadata": {
        "colab": {
          "base_uri": "https://localhost:8080/"
        },
        "id": "NsJpT0-TG3EW",
        "outputId": "f6a479aa-858c-4809-a259-80b83104f2bf"
      },
      "source": [
        "#Definiendo la matrix B1\n",
        "B1 = np.array([[2,0,0],[0,3,4],[0,4,9]])\n",
        "print(\"Matriz B1 = \")\n",
        "print(B1)"
      ],
      "execution_count": 25,
      "outputs": [
        {
          "output_type": "stream",
          "text": [
            "Matriz B1 = \n",
            "[[2 0 0]\n",
            " [0 3 4]\n",
            " [0 4 9]]\n"
          ],
          "name": "stdout"
        }
      ]
    },
    {
      "cell_type": "code",
      "metadata": {
        "colab": {
          "base_uri": "https://localhost:8080/"
        },
        "id": "_z02_oGHYZOv",
        "outputId": "cf515b29-c346-4de6-eac1-3c2a8ab4ffdf"
      },
      "source": [
        "# Aplicamos scipy.linalg.eig() e n B1\n",
        "eigvals, eigvecs = la.eig(B1)\n",
        "print('Eigenvalores:', eigvals)\n",
        "print('Eigenvectores:', eigvecs)"
      ],
      "execution_count": 26,
      "outputs": [
        {
          "output_type": "stream",
          "text": [
            "Eigenvalores: [11.+0.j  1.+0.j  2.+0.j]\n",
            "Eigenvectores: [[ 0.          0.          1.        ]\n",
            " [ 0.4472136   0.89442719  0.        ]\n",
            " [ 0.89442719 -0.4472136   0.        ]]\n"
          ],
          "name": "stdout"
        }
      ]
    },
    {
      "cell_type": "code",
      "metadata": {
        "colab": {
          "base_uri": "https://localhost:8080/"
        },
        "id": "2z4D4LO6YgBa",
        "outputId": "a0884a8b-9e49-42ac-d1b7-5353e077f17d"
      },
      "source": [
        "\n",
        "#Definimos la matrix B2:\n",
        "B2 = np.array([[0,1,0],[0,0,1],[1,0,0]])\n",
        "print(\"Matriz B2 = \")\n",
        "print(B2)"
      ],
      "execution_count": 27,
      "outputs": [
        {
          "output_type": "stream",
          "text": [
            "Matriz B2 = \n",
            "[[0 1 0]\n",
            " [0 0 1]\n",
            " [1 0 0]]\n"
          ],
          "name": "stdout"
        }
      ]
    },
    {
      "cell_type": "code",
      "metadata": {
        "colab": {
          "base_uri": "https://localhost:8080/"
        },
        "id": "p8fM4qA0YnDE",
        "outputId": "34dde7a1-b821-4443-fd47-b31f597d8d52"
      },
      "source": [
        "# Aplicamos scipy.linalg.eig() e n B2\n",
        "eigvals, eigvecs = la.eig(B2)\n",
        "print('Eigenvalores:', eigvals)\n",
        "print('Eigenvectores:', eigvecs)"
      ],
      "execution_count": 28,
      "outputs": [
        {
          "output_type": "stream",
          "text": [
            "Eigenvalores: [-0.5+0.8660254j -0.5-0.8660254j  1. +0.j       ]\n",
            "Eigenvectores: [[ 0.57735027+0.j   0.57735027-0.j  -0.57735027+0.j ]\n",
            " [-0.28867513+0.5j -0.28867513-0.5j -0.57735027+0.j ]\n",
            " [-0.28867513-0.5j -0.28867513+0.5j -0.57735027+0.j ]]\n"
          ],
          "name": "stdout"
        }
      ]
    },
    {
      "cell_type": "code",
      "metadata": {
        "colab": {
          "base_uri": "https://localhost:8080/"
        },
        "id": "Vp4s6k09YxjW",
        "outputId": "90111fc6-5769-4637-f2f8-752830f8d9e2"
      },
      "source": [
        "#Definimos la matrix B3:\n",
        "B3 = np.array([[2,0,0,0],[1,2,0,0],[0,1,3,0],[0,0,1,3]])\n",
        "print(\"Matriz B3 = \")\n",
        "print(B3)"
      ],
      "execution_count": 29,
      "outputs": [
        {
          "output_type": "stream",
          "text": [
            "Matriz B3 = \n",
            "[[2 0 0 0]\n",
            " [1 2 0 0]\n",
            " [0 1 3 0]\n",
            " [0 0 1 3]]\n"
          ],
          "name": "stdout"
        }
      ]
    },
    {
      "cell_type": "code",
      "metadata": {
        "colab": {
          "base_uri": "https://localhost:8080/"
        },
        "id": "iyEgqkyaZPCR",
        "outputId": "e99f61ca-8427-475e-d250-d0187a268adb"
      },
      "source": [
        "# Aplicamos scipy.linalg.eig() e n B3\n",
        "eigvals, eigvecs = la.eig(B3)\n",
        "print('Eigenvalores:', eigvals)\n",
        "print('Eigenvectores:', eigvecs)"
      ],
      "execution_count": 30,
      "outputs": [
        {
          "output_type": "stream",
          "text": [
            "Eigenvalores: [3.+0.j 3.+0.j 2.+0.j 2.+0.j]\n",
            "Eigenvectores: [[ 0.00000000e+00  0.00000000e+00  0.00000000e+00  2.56395025e-16]\n",
            " [ 0.00000000e+00  0.00000000e+00  5.77350269e-01 -5.77350269e-01]\n",
            " [ 0.00000000e+00  6.66133815e-16 -5.77350269e-01  5.77350269e-01]\n",
            " [ 1.00000000e+00 -1.00000000e+00  5.77350269e-01 -5.77350269e-01]]\n"
          ],
          "name": "stdout"
        }
      ]
    },
    {
      "cell_type": "markdown",
      "metadata": {
        "id": "fiUewi8m4SLc"
      },
      "source": [
        "#**Actividad** **5**\n",
        "se tienen los siguientes 8 puntos \n",
        "$$(x , y)$$\n",
        "$$(0.0 , 0.0)$$\n",
        "$$(0.5 , 0.47942)$$\n",
        "$$(1.0 , 0.84147)$$\n",
        "$$(1.5 , 0.99749)$$\n",
        "$$(2.0 , 0.90930)$$\n",
        "$$(2.5 , 0.59847)$$\n",
        "$$(3.0 , 0.14112)$$\n",
        "$$(3.5 , -0.35078)$$\n",
        "\n",
        "Encuentrar un polinomio inerpolante ***p(x)*** que pase por los 8 puntos.\n",
        "Sobreponga la funcion:\n",
        "\n",
        "$$y=sin(x)$$\n",
        "\n",
        "Y contrastela con el polinomio de ***p(x)***\n",
        "\n"
      ]
    },
    {
      "cell_type": "code",
      "metadata": {
        "colab": {
          "base_uri": "https://localhost:8080/",
          "height": 295
        },
        "id": "P-mpdp9fM9XH",
        "outputId": "3251c2c7-2999-43fb-9928-d638cac64f33"
      },
      "source": [
        "#Hacemos la interpolación con un polinimio de grado 7 para el total de los 8 puntos.\n",
        "x = np.array([0.0,0.5,1.0,1.5,2.0,2.5,3.0,3.5])\n",
        "y = np.array([0.0,0.47942,0.84147,0.99749,0.90930,0.59847,0.14112,-0.35078])\n",
        "\n",
        "# Gráficamos los puntos dados.\n",
        "plt.plot(x,y,'r.')\n",
        "plt.grid()\n",
        "plt.title('Puntosp para interpolar', color='Blue')\n",
        "plt.xlabel('X', color='Blue')\n",
        "plt.ylabel('Y', color='Blue')\n",
        "plt.show()"
      ],
      "execution_count": 38,
      "outputs": [
        {
          "output_type": "display_data",
          "data": {
            "image/png": "[encoded data removed]",
            "text/plain": [
              "<Figure size 432x288 with 1 Axes>"
            ]
          },
          "metadata": {
            "tags": [],
            "needs_background": "light"
          }
        }
      ]
    },
    {
      "cell_type": "code",
      "metadata": {
        "colab": {
          "base_uri": "https://localhost:8080/"
        },
        "id": "UKrTH2G26W9J",
        "outputId": "424f121a-c1b5-4da6-accb-5724b757ecd8"
      },
      "source": [
        "# Creamos la matrix de vandemonde, e imprimimos los primeros renglones y columnas\n",
        "X = np.column_stack([x**k for k in range (0,8)])\n",
        "print(X[:5,:5])"
      ],
      "execution_count": 39,
      "outputs": [
        {
          "output_type": "stream",
          "text": [
            "[[ 1.      0.      0.      0.      0.    ]\n",
            " [ 1.      0.5     0.25    0.125   0.0625]\n",
            " [ 1.      1.      1.      1.      1.    ]\n",
            " [ 1.      1.5     2.25    3.375   5.0625]\n",
            " [ 1.      2.      4.      8.     16.    ]]\n"
          ],
          "name": "stdout"
        }
      ]
    },
    {
      "cell_type": "code",
      "metadata": {
        "colab": {
          "base_uri": "https://localhost:8080/"
        },
        "id": "FBt-0_vrNtc6",
        "outputId": "1f62195c-fb36-4143-df5b-a38afe61ad1a"
      },
      "source": [
        "#La biblioteca Numpy conttiene una función para crear la matrix de Vandemonde\n",
        "X = np.vander(x, increasing=True)\n",
        "#Solo imprimimos los primeros 5 renglones y columnas\n",
        "print(X[:5,:5])"
      ],
      "execution_count": 40,
      "outputs": [
        {
          "output_type": "stream",
          "text": [
            "[[ 1.      0.      0.      0.      0.    ]\n",
            " [ 1.      0.5     0.25    0.125   0.0625]\n",
            " [ 1.      1.      1.      1.      1.    ]\n",
            " [ 1.      1.5     2.25    3.375   5.0625]\n",
            " [ 1.      2.      4.      8.     16.    ]]\n"
          ],
          "name": "stdout"
        }
      ]
    },
    {
      "cell_type": "code",
      "metadata": {
        "colab": {
          "base_uri": "https://localhost:8080/"
        },
        "id": "zehHFeGKN3wg",
        "outputId": "385cedec-79f9-40d5-cf59-80c38dc292a6"
      },
      "source": [
        "# Ahora utilizamos la función de scipy.linalg.solve(), para encontrar los 8 coeficientes \n",
        "# de la solución lineal X_a=y\n",
        "a = la.solve(X,y)\n",
        "print(np.round(a,1))"
      ],
      "execution_count": 41,
      "outputs": [
        {
          "output_type": "stream",
          "text": [
            "[ 0.   1.  -0.  -0.2 -0.   0.  -0.   0. ]\n"
          ],
          "name": "stdout"
        }
      ]
    },
    {
      "cell_type": "code",
      "metadata": {
        "colab": {
          "base_uri": "https://localhost:8080/",
          "height": 295
        },
        "id": "g9ETPKv5OCC3",
        "outputId": "cdfbf0f7-0f5b-461c-e254-3aad03077f1c"
      },
      "source": [
        "#Graficamos el polinomio interpolante y los puntos interpolados\n",
        "# Los puntos interpolados en verde 'r.\n",
        "xs = np.linspace(0,4,50)\n",
        "ys = sum([a[k]*xs**k for k in range(0,8)])\n",
        "plt.plot(x,y,'r.',xs,ys,color='forestgreen')\n",
        "plt.plot(x, np.sin(x), color='red')\n",
        "plt.grid()\n",
        "plt.title('Polinomio interpolante p(x)', color='darkgreen')\n",
        "plt.xlabel('x',color='green')\n",
        "plt.ylabel('y', color='lime')\n",
        "plt.show()"
      ],
      "execution_count": 44,
      "outputs": [
        {
          "output_type": "display_data",
          "data": {
            "image/png": "[encoded data removed]",
            "text/plain": [
              "<Figure size 432x288 with 1 Axes>"
            ]
          },
          "metadata": {
            "tags": [],
            "needs_background": "light"
          }
        }
      ]
    },
    {
      "cell_type": "markdown",
      "metadata": {
        "id": "CXK9zZZUOvAs"
      },
      "source": [
        "#**Actividad** **6**.\n",
        " Regrese a su modelo de análisis de series de tiempo. Haga una descomposición de su serie de tiempo de las temperaturas $(T_{max}$ y $T_{min})$, y realice una regresión lineal sobre la serie de Tendencia de Temp $(T = a_0 + a_1 t)$. Encuentre si la pendiente es positiva o negativa de la tendencia (signo de $a_1$), es decir si las Temperaturas  $(T_{max},T_{min})$ están subiendo o bajando en el periodo analizado.\n",
        "\n",
        "\n",
        "**NOTA**: Pueden trabajar en sus Notebooks de la Actividad 5 o 6 y hacer el ajuste de regresión lineal allá donde tienen todo cargado en la memoria y luego copiar unas celdas de texto de esa Notebook y agregarlas al final de su Notebook de la Actividad 7. Así no tienen que cargar a la memoria todas las operaciones."
      ]
    },
    {
      "cell_type": "code",
      "metadata": {
        "id": "s5qRlLTxOFlU"
      },
      "source": [
        ""
      ],
      "execution_count": null,
      "outputs": []
    }
  ]
}